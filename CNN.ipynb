{
 "cells": [
  {
   "cell_type": "markdown",
   "metadata": {},
   "source": [
    "# 0. Import libraries"
   ]
  },
  {
   "cell_type": "code",
   "execution_count": 1,
   "metadata": {},
   "outputs": [],
   "source": [
    "import pandas as pd\n",
    "import numpy as np\n",
    "\n",
    "import torch\n",
    "from torchvision import transforms\n",
    "import torch.nn as nn\n",
    "\n",
    "from sklearn.metrics import *\n",
    "\n",
    "import matplotlib.pyplot as plt\n",
    "%matplotlib inline"
   ]
  },
  {
   "cell_type": "markdown",
   "metadata": {},
   "source": [
    "# 1. Explore the data:"
   ]
  },
  {
   "cell_type": "markdown",
   "metadata": {},
   "source": [
    "### Reading csv and counting entries:\n",
    "We create a pandas dataframe for both the training and testing datasets. Therefore the further datamodel will directly obtain the dataframe to not duplicate the reading of the data."
   ]
  },
  {
   "cell_type": "code",
   "execution_count": 2,
   "metadata": {},
   "outputs": [
    {
     "name": "stdout",
     "output_type": "stream",
     "text": [
      "Number of training samples: 42000\n",
      "Number of training pixels: 784\n",
      "Number of classes: 10\n",
      "Number of train samples: 28000\n",
      "Number of test pixels: 784\n"
     ]
    }
   ],
   "source": [
    "train_df = pd.read_csv('./input/train.csv')\n",
    "\n",
    "n_train = len(train_df)\n",
    "n_pixels = len(train_df.columns) - 1\n",
    "n_class = len(set(train_df['label']))\n",
    "\n",
    "print('Number of training samples: {0}'.format(n_train))\n",
    "print('Number of training pixels: {0}'.format(n_pixels))\n",
    "print('Number of classes: {0}'.format(n_class))\n",
    "\n",
    "test_df = pd.read_csv('./input/test.csv')\n",
    "\n",
    "n_test = len(test_df)\n",
    "n_pixels = len(test_df.columns)\n",
    "\n",
    "print('Number of train samples: {0}'.format(n_test))\n",
    "print('Number of test pixels: {0}'.format(n_pixels))"
   ]
  },
  {
   "cell_type": "markdown",
   "metadata": {},
   "source": [
    "### Display some images with its labels from training set:"
   ]
  },
  {
   "cell_type": "code",
   "execution_count": 3,
   "metadata": {},
   "outputs": [
    {
     "data": {
      "image/png": "[encoded data removed]",
      "text/plain": [
       "<Figure size 800x400 with 8 Axes>"
      ]
     },
     "metadata": {},
     "output_type": "display_data"
    }
   ],
   "source": [
    "figure = plt.figure(figsize=(8, 4))\n",
    "cols, rows = 4, 2\n",
    "for i in range(1, cols * rows + 1):\n",
    "    sample_idx = torch.randint(len(train_df), size=(1,)).item()\n",
    "    img = np.array((train_df.iloc[sample_idx, 1:].values).reshape(28, 28))\n",
    "    label = train_df.iloc[sample_idx, 0]\n",
    "    figure.add_subplot(rows, cols, i)\n",
    "    plt.title(label)\n",
    "    plt.axis(\"off\")\n",
    "    plt.imshow(img,cmap=\"gray\")\n",
    "plt.show()"
   ]
  },
  {
   "cell_type": "markdown",
   "metadata": {},
   "source": [
    "### Histogram of the classes (0-9)\n",
    "We display the histogram to check if we have class imbalance, which we do not have because the dataset contains roughly the same number of samples for each label."
   ]
  },
  {
   "cell_type": "code",
   "execution_count": 4,
   "metadata": {},
   "outputs": [
    {
     "data": {
      "image/png": "[encoded data removed]",
      "text/plain": [
       "<Figure size 1000x500 with 1 Axes>"
      ]
     },
     "metadata": {},
     "output_type": "display_data"
    }
   ],
   "source": [
    "plt.rcParams['figure.figsize'] = (10, 5)\n",
    "plt.bar(train_df['label'].value_counts().index, train_df['label'].value_counts())\n",
    "plt.xticks(np.arange(n_class))\n",
    "plt.xlabel('Class', fontsize=10)\n",
    "plt.ylabel('Count', fontsize=10)\n",
    "plt.grid('on', axis='y')"
   ]
  },
  {
   "cell_type": "markdown",
   "metadata": {},
   "source": [
    "# 2. Modeling and Creating Data for Training and Validation:"
   ]
  },
  {
   "cell_type": "markdown",
   "metadata": {},
   "source": [
    "### Data model:\n",
    "A custom Dataset class must implement three functions: __init__, __len__, and __getitem__.\n",
    "- The __init__ function is run once when instantiating the Dataset object: in our case, as the data has been already red from the csv and converted to a dataframe, the data is directly this dataframe to which the transformations (if any) will be attached to be performed.\n",
    "- The __len__ function simply returns the length of the dataset (number of samples).\n",
    "- The __getitem__ function loads and returns a sample (image and label) from the dataset at the given index."
   ]
  },
  {
   "cell_type": "code",
   "execution_count": 5,
   "metadata": {},
   "outputs": [],
   "source": [
    "class CustomImageDataset(torch.utils.data.Dataset):\n",
    "    def __init__(self, dataframe, transform=None):\n",
    "        self.data = dataframe\n",
    "        self.transform = transform\n",
    "        \n",
    "    def __len__(self):\n",
    "        return len(self.data)\n",
    "    \n",
    "    def __getitem__(self, index):\n",
    "        label = self.data.iloc[index,0] #first column where the label is\n",
    "        image = torch.tensor(list(self.data.iloc[index,1:]),dtype=torch.float) #all columns but first\n",
    "        image = image / image.max() #to set the range to [0,1]\n",
    "        image = image.reshape(28,28).unsqueeze(0)  #convert from (784) to (28,28)\n",
    "\n",
    "        if self.transform is not None:\n",
    "            image = self.transform(image)\n",
    "            \n",
    "        return image, label "
   ]
  },
  {
   "cell_type": "markdown",
   "metadata": {},
   "source": [
    "### Transforms:\n",
    "Data does not always come in its final processed form that is required for training machine learning algorithms. \n",
    "We use transforms to perform some manipulation of the data and make it suitable for training.\n",
    "For training, we need the features as normalized tensors, and the labels as one-hot encoded tensors."
   ]
  },
  {
   "cell_type": "code",
   "execution_count": 6,
   "metadata": {},
   "outputs": [],
   "source": [
    "transform_train = transforms.Compose([\n",
    "    transforms.Normalize(mean=(0.5,), std=(0.5,))\n",
    "])"
   ]
  },
  {
   "cell_type": "markdown",
   "metadata": {},
   "source": [
    "### Creating datasets:\n",
    "The batch size should be a trade-off between accuracy and speed:\n",
    "- A smaller batch size allows the model to learn from each individual example but takes longer to train\n",
    "- A larger batch size trains faster but may result in the model not capturing the nuances in the data.\n",
    "\n",
    "Taking into account the size of our dataset, and that usually the batch size is taken as a power of 2, it has been decided to use 64. (note that if overfitting would have been seen, it would have been increased)"
   ]
  },
  {
   "cell_type": "code",
   "execution_count": 7,
   "metadata": {},
   "outputs": [],
   "source": [
    "BATCH_SIZE = 64\n",
    "TRAINING_SIZE = 0.9\n",
    "\n",
    "full_training_dataset = CustomImageDataset(train_df, transform=transform_train)\n",
    "training_train_sample, training_valid_sample = torch.utils.data.random_split(full_training_dataset, [TRAINING_SIZE, 1- TRAINING_SIZE])\n",
    "\n",
    "train_loader = torch.utils.data.DataLoader(training_train_sample, batch_size=BATCH_SIZE, shuffle=True)\n",
    "valid_loader = torch.utils.data.DataLoader(training_valid_sample, batch_size=BATCH_SIZE, shuffle=True)"
   ]
  },
  {
   "cell_type": "markdown",
   "metadata": {},
   "source": [
    "# 3. Building the neural network:\n",
    "Neural networks comprise of layers/modules that perform operations on data. The torch.nn namespace provides all the building blocks needed to build your own neural network. Every module in PyTorch subclasses the nn.Module. A neural network is a module itself that consists of other modules (layers). This nested structure allows for building and managing complex architectures easily."
   ]
  },
  {
   "cell_type": "markdown",
   "metadata": {},
   "source": [
    "### Define the network structure:"
   ]
  },
  {
   "cell_type": "code",
   "execution_count": 8,
   "metadata": {},
   "outputs": [
    {
     "name": "stdout",
     "output_type": "stream",
     "text": [
      "Net(\n",
      "  (conv1): Conv2d(1, 6, kernel_size=(5, 5), stride=(1, 1))\n",
      "  (conv2): Conv2d(6, 16, kernel_size=(5, 5), stride=(1, 1))\n",
      "  (fc1): Linear(in_features=256, out_features=120, bias=True)\n",
      "  (fc2): Linear(in_features=120, out_features=84, bias=True)\n",
      "  (fc3): Linear(in_features=84, out_features=10, bias=True)\n",
      ")\n"
     ]
    }
   ],
   "source": [
    "class Net(nn.Module):\n",
    "\n",
    "    def __init__(self):\n",
    "        super(Net, self).__init__()\n",
    "        # 1 input image channel, 6 output channels, 5x5 square convolution\n",
    "        # kernel\n",
    "        self.conv1 = nn.Conv2d(1, 6, 5)\n",
    "        self.conv2 = nn.Conv2d(6, 16, 5)\n",
    "        # an affine operation: y = Wx + b\n",
    "        self.fc1 = nn.Linear(16 * 4 * 4, 120)  # 5*5 from image dimension\n",
    "        self.fc2 = nn.Linear(120, 84)\n",
    "        self.fc3 = nn.Linear(84, 10)\n",
    "\n",
    "    def forward(self, x):\n",
    "        # Max pooling over a (2, 2) window\n",
    "        x = torch.nn.functional.max_pool2d(torch.nn.functional.relu(self.conv1(x)), (2, 2))\n",
    "        # If the size is a square, you can specify with a single number\n",
    "        x = torch.nn.functional.max_pool2d(torch.nn.functional.relu(self.conv2(x)), 2)\n",
    "        x = torch.flatten(x, 1) # flatten all dimensions except the batch dimension\n",
    "        x = torch.nn.functional.relu(self.fc1(x))\n",
    "        x = torch.nn.functional.relu(self.fc2(x))\n",
    "        x = self.fc3(x)\n",
    "        return x\n",
    "\n",
    "model = Net()\n",
    "print(model)\n"
   ]
  },
  {
   "cell_type": "markdown",
   "metadata": {},
   "source": [
    "# 4. Training and evaluation:\n",
    "### 4.1 Training the model and computing the losses/accuracies \n",
    "To use the model, we pass it the input data. This executes the model’s forward, along with some background operations. \n",
    "The most important hyperparameters here are the **number of epochs** and the **learning rate**:\n",
    "\n",
    "- With a small learning rate, the training process will take more time but a high learning rate may cause overshooting the global optimum, meaning we would never reach a converging point.\n",
    "- The number of epochs is how many times we pass the input data to our CNN, meaning that the higher this number, the more our network \"learns\". This affects directly the time it will take and has a close relation to how complex the task is, being necessary more epochs the harder the task is.\n",
    "\n",
    "The values chosen for this parameters are purely experimental (with a learning rate higher than 1e-2 we have some overshooting and after 8-10 epochs, the losses being to oscillate around the same values, showing no improvement). \n",
    "\n",
    "Also, for our **optimization algorithm** we have chosen stochastic gradient descent (SGD) but others work fine such as the Adam algorithm."
   ]
  },
  {
   "cell_type": "code",
   "execution_count": 9,
   "metadata": {},
   "outputs": [],
   "source": [
    "LEARNING_RATE = 1e-2\n",
    "MOMENTUM = 0.9\n",
    "\n",
    "criterion = nn.CrossEntropyLoss()\n",
    "optim = torch.optim.SGD(model.parameters(), lr=LEARNING_RATE, momentum=MOMENTUM)\n",
    "\n",
    "if torch.cuda.is_available():\n",
    "    model = model.cuda()\n",
    "    criterion = criterion.cuda()"
   ]
  },
  {
   "cell_type": "code",
   "execution_count": 10,
   "metadata": {},
   "outputs": [
    {
     "name": "stdout",
     "output_type": "stream",
     "text": [
      "Epoch: 1/10..  Training Loss: 0.541..  Validation Loss: 0.132..  Training Accuracy: 0.610 Valid Accuracy: 0.960\n",
      "Detected network improvement, saving current model\n",
      "Epoch: 2/10..  Training Loss: 0.095..  Validation Loss: 0.081..  Training Accuracy: 0.966 Valid Accuracy: 0.970\n",
      "Detected network improvement, saving current model\n",
      "Epoch: 3/10..  Training Loss: 0.062..  Validation Loss: 0.077..  Training Accuracy: 0.980 Valid Accuracy: 0.977\n",
      "Detected network improvement, saving current model\n",
      "Epoch: 4/10..  Training Loss: 0.045..  Validation Loss: 0.051..  Training Accuracy: 0.986 Valid Accuracy: 0.985\n",
      "Detected network improvement, saving current model\n",
      "Epoch: 5/10..  Training Loss: 0.039..  Validation Loss: 0.052..  Training Accuracy: 0.987 Valid Accuracy: 0.985\n",
      "Epoch: 6/10..  Training Loss: 0.031..  Validation Loss: 0.046..  Training Accuracy: 0.991 Valid Accuracy: 0.987\n",
      "Detected network improvement, saving current model\n",
      "Epoch: 7/10..  Training Loss: 0.027..  Validation Loss: 0.047..  Training Accuracy: 0.992 Valid Accuracy: 0.986\n",
      "Epoch: 8/10..  Training Loss: 0.023..  Validation Loss: 0.042..  Training Accuracy: 0.992 Valid Accuracy: 0.986\n",
      "Detected network improvement, saving current model\n",
      "Epoch: 9/10..  Training Loss: 0.018..  Validation Loss: 0.059..  Training Accuracy: 0.995 Valid Accuracy: 0.986\n",
      "Epoch: 10/10..  Training Loss: 0.017..  Validation Loss: 0.047..  Training Accuracy: 0.994 Valid Accuracy: 0.988\n"
     ]
    }
   ],
   "source": [
    "epochs = 10\n",
    "valid_loss_min = np.Inf\n",
    "train_losses, valid_losses = [], []\n",
    "train_accuracies, valid_accuracies = [], []\n",
    "\n",
    "for epoch in range(1, epochs+1):\n",
    "\n",
    "    # TRAINING!!\n",
    "    training_loss = 0.0\n",
    "    training_accuracy = 0\n",
    "    total = 0\n",
    "    correct = 0\n",
    "\n",
    "    for i, data in enumerate(train_loader, 0):\n",
    "        # get the inputs; data is a list of [inputs, labels]\n",
    "        inputs, labels = data\n",
    "        \n",
    "        # Clear the gradients, do this because gradients are accumulated.\n",
    "        optim.zero_grad()\n",
    "        # Forward pass, get our log-probabilities.\n",
    "        ps = model(inputs)\n",
    "\n",
    "        # the class with the highest energy is what we choose as prediction\n",
    "        _, predicted = torch.max(ps.data, 1)\n",
    "        total += labels.size(0)\n",
    "        correct += (predicted == labels).sum().item()\n",
    "        training_accuracy+= correct / total\n",
    "        \n",
    "        # Compute the loss (how far is the output from being correct).\n",
    "        loss = criterion(ps, labels)\n",
    "        # Backpropagate this error through the network. \n",
    "        # Autograd calculates and stores the gradients for each model parameter in the parameter’s .grad attribute.\n",
    "        loss.backward()    \n",
    "        # initiate gradient descent. The optimizer adjusts each parameter by its gradient stored in .grad.\n",
    "        optim.step()\n",
    "\n",
    "        training_loss += loss.item()\n",
    "\n",
    "\n",
    "    # VALIDATION!!\n",
    "    else:\n",
    "        valid_loss = 0\n",
    "        valid_accuracy = 0\n",
    "        correct = 0\n",
    "        total = 0\n",
    "\n",
    "        # since we're not training, we don't need to calculate the gradients for our outputs\n",
    "        with torch.no_grad():\n",
    "            for data in valid_loader:\n",
    "                images, labels = data\n",
    "                # calculate outputs by running images through the network\n",
    "                outputs = model(images)\n",
    "                # the class with the highest energy is what we choose as prediction\n",
    "                _, predicted = torch.max(outputs.data, 1)\n",
    "                total += labels.size(0)\n",
    "                correct += (predicted == labels).sum().item()\n",
    "                valid_accuracy+= correct / total\n",
    "\n",
    "                valid_loss += criterion(outputs, labels)\n",
    "\n",
    "        model.train() # change the network to training mode\n",
    "        \n",
    "        train_losses.append(training_loss/len(train_loader))\n",
    "        valid_losses.append(valid_loss/len(valid_loader))\n",
    "        valid_accuracies.append(valid_accuracy/len(valid_loader))\n",
    "        train_accuracies.append(training_accuracy/len(train_loader))\n",
    "\n",
    "        network_learned = valid_loss < valid_loss_min\n",
    "\n",
    "        print(f\"Epoch: {epoch}/{epochs}.. \",\n",
    "                f\"Training Loss: {training_loss/len(train_loader):.3f}.. \",\n",
    "                f\"Validation Loss: {valid_loss/len(valid_loader):.3f}.. \",\n",
    "                f\"Training Accuracy: {training_accuracy/len(train_loader):.3f}\",\n",
    "                f\"Valid Accuracy: {valid_accuracy/len(valid_loader):.3f}\")\n",
    "        if network_learned:\n",
    "            valid_loss_min = valid_loss\n",
    "            torch.save(model.state_dict(), 'CNN_model.pt')\n",
    "            print('Detected network improvement, saving current model')\n"
   ]
  },
  {
   "cell_type": "markdown",
   "metadata": {},
   "source": [
    "After the training process has finished, we can observe if it has been succesfull plotting both the training/validation losses and accuracies. \n",
    "\n",
    "In our case, we are interested in the **difference between the training and validation accuracies**. If we were to have a large gap between them (being the training accuracy larger of course), it would mean that the model is overfitted. This implies that the model excels at images contained in the training dataset but performs poorly with new/unknown data. \n",
    "\n",
    "For our model, this difference between the accuracies is rather small (0.995 to 0.985), meaning the model performs well and is not overfitted."
   ]
  },
  {
   "cell_type": "code",
   "execution_count": 11,
   "metadata": {},
   "outputs": [
    {
     "data": {
      "image/png": "[encoded data removed]",
      "text/plain": [
       "<Figure size 1000x500 with 2 Axes>"
      ]
     },
     "metadata": {},
     "output_type": "display_data"
    }
   ],
   "source": [
    "plt.subplot(2, 1, 1)\n",
    "line1 = plt.plot(train_losses, c='red')\n",
    "line2 = plt.plot(valid_losses, c='green')\n",
    "plt.legend(['training_loss', 'validation_loss'])\n",
    "\n",
    "plt.subplot(2, 1, 2)\n",
    "line3 = plt.plot(train_accuracies, c='blue')\n",
    "line4 = plt.plot(valid_accuracies, c='black')\n",
    "\n",
    "plt.legend(['training_accuracy', 'validation_accuracy'])\n",
    "plt.show()"
   ]
  },
  {
   "cell_type": "markdown",
   "metadata": {},
   "source": [
    "### 4.2 Computing the accuracy per class and the confusion matrix:"
   ]
  },
  {
   "cell_type": "markdown",
   "metadata": {},
   "source": [
    "Some analysis to determine where is our model failing to classify and improve accuracy can be done in two ways. \n",
    "\n",
    "The first one is computing the **accuracy for each class separately**. "
   ]
  },
  {
   "cell_type": "code",
   "execution_count": 12,
   "metadata": {},
   "outputs": [
    {
     "name": "stdout",
     "output_type": "stream",
     "text": [
      "Accuracy for class: 0     is 99.5 %\n",
      "Accuracy for class: 1     is 99.2 %\n",
      "Accuracy for class: 2     is 99.3 %\n",
      "Accuracy for class: 3     is 99.5 %\n",
      "Accuracy for class: 4     is 98.7 %\n",
      "Accuracy for class: 5     is 98.3 %\n",
      "Accuracy for class: 6     is 98.4 %\n",
      "Accuracy for class: 7     is 98.6 %\n",
      "Accuracy for class: 8     is 98.3 %\n",
      "Accuracy for class: 9     is 98.0 %\n"
     ]
    }
   ],
   "source": [
    "# prepare to count predictions for each class\n",
    "classes = ('0','1','2','3','4','5','6','7','8','9')\n",
    "correct_pred = {classname: 0 for classname in classes}\n",
    "total_pred = {classname: 0 for classname in classes}\n",
    "\n",
    "# again no gradients needed\n",
    "with torch.no_grad():\n",
    "    for data in valid_loader:\n",
    "        images, labels = data\n",
    "        outputs = model(images)\n",
    "        _, predictions = torch.max(outputs, 1)\n",
    "        # collect the correct predictions for each class\n",
    "        for label, prediction in zip(labels, predictions):\n",
    "            if label == prediction:\n",
    "                correct_pred[classes[label]] += 1\n",
    "            total_pred[classes[label]] += 1\n",
    "\n",
    "\n",
    "# print accuracy for each class\n",
    "for classname, correct_count in correct_pred.items():\n",
    "    accuracy = 100 * float(correct_count) / total_pred[classname]\n",
    "    print(f'Accuracy for class: {classname:5s} is {accuracy:.1f} %')"
   ]
  },
  {
   "cell_type": "markdown",
   "metadata": {},
   "source": [
    "Now, to check the misclassification we can calculate the **Confusion Matrix**. This will give us a matrix comparing the true labels (the actual value of the input) and the predicted label produced by our model.\n",
    "\n",
    "This way we can observe that for our model, some 6's are being mislabeled as 0's. We also have computed the accuracy for the valid images, obtaining 98.7%. This result is fairly good but it **can be improved using other types of optimization algorithm and increasing the number of epochs at expense of computation time**. "
   ]
  },
  {
   "cell_type": "code",
   "execution_count": 13,
   "metadata": {},
   "outputs": [
    {
     "name": "stdout",
     "output_type": "stream",
     "text": [
      "Accuracy of the network on valid images:  0.9880924029530841\n"
     ]
    },
    {
     "data": {
      "image/png": "[encoded data removed]",
      "text/plain": [
       "<Figure size 1000x500 with 2 Axes>"
      ]
     },
     "metadata": {},
     "output_type": "display_data"
    }
   ],
   "source": [
    "correct = 0\n",
    "total = 0\n",
    "predicted_list =  []\n",
    "labels_list = []\n",
    "with torch.no_grad():\n",
    "    for data in valid_loader:\n",
    "        images, labels = data\n",
    "        outputs = model(images)\n",
    "        _, predicted = torch.max(outputs.data, 1)\n",
    "        predicted_list.append(predicted)\n",
    "        total += labels.size(0)\n",
    "        labels_list.append(labels)\n",
    "        correct += (predicted == labels).sum().item()\n",
    "print('Accuracy of the network on valid images: ', correct/total)\n",
    "labels_tensor = torch.cat(labels_list,dim=0)\n",
    "predicted_tensor = torch.cat(predicted_list,dim=0)\n",
    "cm = confusion_matrix(labels_tensor,predicted_tensor)\n",
    "disp = ConfusionMatrixDisplay(confusion_matrix=cm)\n",
    "disp.plot()\n",
    "plt.show()"
   ]
  },
  {
   "cell_type": "markdown",
   "metadata": {},
   "source": [
    "# 5. Submittion CSV for Kaggle:"
   ]
  },
  {
   "cell_type": "markdown",
   "metadata": {},
   "source": [
    "Finally, **to test our CNN we use the _test.csv_ in which the images are not labeled**. We will output the predictions to a CSV file which we can submit to Kaggle and be given an accuracy for our model. \n",
    "\n",
    "This is done in the same way: first process the dataset (converting to tensor and normalizing the values as well as resizing to 28x28), giving this as input to our network and storing the predicted values to the build a CSV file with the ID of the image (number of row) and the predicted label. This CSV file will have the name _submition.csv_.\n",
    "\n",
    "Submitting it to Kaggle we obtain an **accuracy of 97.1%**."
   ]
  },
  {
   "cell_type": "code",
   "execution_count": 14,
   "metadata": {},
   "outputs": [],
   "source": [
    "test_df = pd.read_csv('./input/test.csv')\n",
    "test_df.values.shape\n",
    "test_tensor = torch.tensor(test_df.values, dtype=torch.float) / 255\n",
    "test_tensor = test_tensor.view(-1, 1, 28, 28)\n",
    "outputs = model(test_tensor)\n",
    "_, predicted = torch.max(outputs, 1)\n",
    "submit_df = pd.DataFrame({'ImageId': np.arange(1, 28001), 'Label': predicted.numpy()})\n",
    "submit_df.to_csv('submition.csv', index=False)"
   ]
  }
 ],
 "metadata": {
  "kernelspec": {
   "display_name": "SIP2entorno-KrB8jpVt",
   "language": "python",
   "name": "python3"
  },
  "language_info": {
   "codemirror_mode": {
    "name": "ipython",
    "version": 3
   },
   "file_extension": ".py",
   "mimetype": "text/x-python",
   "name": "python",
   "nbconvert_exporter": "python",
   "pygments_lexer": "ipython3",
   "version": "3.10.11"
  }
 },
 "nbformat": 4,
 "nbformat_minor": 2
}
