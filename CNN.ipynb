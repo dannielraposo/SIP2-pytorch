{
 "cells": [
  {
   "cell_type": "markdown",
   "metadata": {},
   "source": [
    "((n+2p-f)/s)+1\n",
    "\n",
    "mirar errores por clases\n",
    "mirar manualmente errores de clasificacion en el valid dataset. para entender de donde pueden venir los errores.\n",
    "confussion matrix?? pytorch o tiene metodos. usar sklearn\n",
    "\n",
    "weight decay parameter of optimizer (10e-3, 10e-2, 10e-1)"
   ]
  },
  {
   "cell_type": "markdown",
   "metadata": {},
   "source": [
    "# 0. Import libraries"
   ]
  },
  {
   "cell_type": "code",
   "execution_count": 12,
   "metadata": {},
   "outputs": [],
   "source": [
    "import pandas as pd\n",
    "import numpy as np\n",
    "\n",
    "import torch\n",
    "from torchvision import transforms\n",
    "import torch.nn as nn\n",
    "\n",
    "import matplotlib.pyplot as plt\n",
    "%matplotlib inline"
   ]
  },
  {
   "cell_type": "markdown",
   "metadata": {},
   "source": [
    "# 1. Explore the data:"
   ]
  },
  {
   "cell_type": "markdown",
   "metadata": {},
   "source": [
    "### Reading csv and counting entries:"
   ]
  },
  {
   "cell_type": "code",
   "execution_count": 13,
   "metadata": {},
   "outputs": [
    {
     "name": "stdout",
     "output_type": "stream",
     "text": [
      "Number of training samples: 42000\n",
      "Number of training pixels: 784\n",
      "Number of classes: 10\n",
      "Number of train samples: 28000\n",
      "Number of test pixels: 784\n"
     ]
    }
   ],
   "source": [
    "train_df = pd.read_csv('./input/train.csv')\n",
    "\n",
    "n_train = len(train_df)\n",
    "n_pixels = len(train_df.columns) - 1\n",
    "n_class = len(set(train_df['label']))\n",
    "\n",
    "print('Number of training samples: {0}'.format(n_train))\n",
    "print('Number of training pixels: {0}'.format(n_pixels))\n",
    "print('Number of classes: {0}'.format(n_class))\n",
    "\n",
    "test_df = pd.read_csv('./input/test.csv')\n",
    "\n",
    "n_test = len(test_df)\n",
    "n_pixels = len(test_df.columns)\n",
    "\n",
    "print('Number of train samples: {0}'.format(n_test))\n",
    "print('Number of test pixels: {0}'.format(n_pixels))"
   ]
  },
  {
   "cell_type": "markdown",
   "metadata": {},
   "source": [
    "### Display some images with its labels from training set:"
   ]
  },
  {
   "cell_type": "code",
   "execution_count": 14,
   "metadata": {},
   "outputs": [
    {
     "data": {
      "image/png": "[encoded data removed]",
      "text/plain": [
       "<Figure size 800x400 with 8 Axes>"
      ]
     },
     "metadata": {},
     "output_type": "display_data"
    }
   ],
   "source": [
    "figure = plt.figure(figsize=(8, 4))\n",
    "cols, rows = 4, 2\n",
    "for i in range(1, cols * rows + 1):\n",
    "    sample_idx = torch.randint(len(train_df), size=(1,)).item()\n",
    "    img = torch.Tensor((train_df.iloc[sample_idx, 1:].values).reshape(28, 28))\n",
    "    label = train_df.iloc[sample_idx, 0]\n",
    "    figure.add_subplot(rows, cols, i)\n",
    "    plt.title(label)\n",
    "    plt.axis(\"off\")\n",
    "    plt.imshow(img,cmap=\"gray\")\n",
    "plt.show()"
   ]
  },
  {
   "cell_type": "markdown",
   "metadata": {},
   "source": [
    "### Histogram of the classes (0-9)"
   ]
  },
  {
   "cell_type": "code",
   "execution_count": 15,
   "metadata": {},
   "outputs": [
    {
     "data": {
      "image/png": "[encoded data removed]",
      "text/plain": [
       "<Figure size 1000x500 with 1 Axes>"
      ]
     },
     "metadata": {},
     "output_type": "display_data"
    }
   ],
   "source": [
    "plt.rcParams['figure.figsize'] = (10, 5)\n",
    "plt.bar(train_df['label'].value_counts().index, train_df['label'].value_counts())\n",
    "plt.xticks(np.arange(n_class))\n",
    "plt.xlabel('Class', fontsize=10)\n",
    "plt.ylabel('Count', fontsize=10)\n",
    "plt.grid('on', axis='y')"
   ]
  },
  {
   "cell_type": "markdown",
   "metadata": {},
   "source": [
    "# 2. Modeling and Creating Data for Training and Validation:"
   ]
  },
  {
   "cell_type": "markdown",
   "metadata": {},
   "source": [
    "### Data model:\n",
    "A custom Dataset class must implement three functions: __init__, __len__, and __getitem__.\n",
    "The __init__ function is run once when instantiating the Dataset object. We initialize the directory containing the images, the annotations file, \n",
    "and both transforms (covered in more detail in the next section)."
   ]
  },
  {
   "cell_type": "code",
   "execution_count": 16,
   "metadata": {},
   "outputs": [],
   "source": [
    "class CustomImageDataset(torch.utils.data.Dataset):\n",
    "    def __init__(self, dataframe, transform=None):\n",
    "        self.data = dataframe\n",
    "        self.transform = transform\n",
    "        \n",
    "    def __len__(self):\n",
    "        return len(self.data)\n",
    "    \n",
    "    def __getitem__(self, index):\n",
    "        label = self.data.iloc[index,0] #first column where the label is\n",
    "        image = np.array(list(self.data.iloc[index,1:])) #all columns but first\n",
    "        image = image / image.max() #to set the range to [0,1]\n",
    "        image = image.reshape(28,28).unsqueeze(0)  #convert from (784) to (28,28)\n",
    "\n",
    "        if self.transform is not None:\n",
    "            image = self.transform(image)\n",
    "            \n",
    "        return image, label  #image should be either a narray or a PIL image"
   ]
  },
  {
   "cell_type": "markdown",
   "metadata": {},
   "source": [
    "### Transforms:\n",
    "Data does not always come in its final processed form that is required for training machine learning algorithms. \n",
    "We use transforms to perform some manipulation of the data and make it suitable for training.\n",
    "For training, we need the features as normalized tensors, and the labels as one-hot encoded tensors.\n",
    "    transform to modify the features and target_transform to modify the labels.\n"
   ]
  },
  {
   "cell_type": "code",
   "execution_count": 17,
   "metadata": {},
   "outputs": [],
   "source": [
    "transform_train = transforms.Compose([\n",
    "    transforms.ToTensor(),\n",
    "    transforms.Normalize(mean=(0.5,), std=(0.5,))\n",
    "])"
   ]
  },
  {
   "cell_type": "markdown",
   "metadata": {},
   "source": [
    "### Creating datasets:"
   ]
  },
  {
   "cell_type": "code",
   "execution_count": 18,
   "metadata": {},
   "outputs": [],
   "source": [
    "BATCH_SIZE = 64\n",
    "TRAINING_SIZE = 0.9\n",
    "\n",
    "full_training_dataset = CustomImageDataset(train_df, transform=transform_train)\n",
    "training_train_sample, training_valid_sample = torch.utils.data.random_split(full_training_dataset, [TRAINING_SIZE, 1- TRAINING_SIZE])\n",
    "\n",
    "train_loader = torch.utils.data.DataLoader(training_train_sample, batch_size=BATCH_SIZE, shuffle=True)\n",
    "valid_loader = torch.utils.data.DataLoader(training_valid_sample, batch_size=BATCH_SIZE, shuffle=True)"
   ]
  },
  {
   "cell_type": "markdown",
   "metadata": {},
   "source": [
    "# 3. Building the neural network:\n",
    "Neural networks comprise of layers/modules that perform operations on data. The torch.nn namespace provides all the building blocks you need to build your own neural network. Every module in PyTorch subclasses the nn.Module. A neural network is a module itself that consists of other modules (layers). This nested structure allows for building and managing complex architectures easily."
   ]
  },
  {
   "cell_type": "markdown",
   "metadata": {},
   "source": [
    "### Get device for training:"
   ]
  },
  {
   "cell_type": "code",
   "execution_count": 19,
   "metadata": {},
   "outputs": [
    {
     "name": "stdout",
     "output_type": "stream",
     "text": [
      "Training on CPU...\n"
     ]
    }
   ],
   "source": [
    "# Checking GPU is available\n",
    "train_on_gpu = torch.cuda.is_available()\n",
    "\n",
    "if not train_on_gpu:\n",
    "    print('Training on CPU...')\n",
    "else:\n",
    "    print('Training on GPU...')"
   ]
  },
  {
   "cell_type": "markdown",
   "metadata": {},
   "source": [
    "### Define the network structure:"
   ]
  },
  {
   "cell_type": "code",
   "execution_count": 20,
   "metadata": {},
   "outputs": [
    {
     "name": "stdout",
     "output_type": "stream",
     "text": [
      "Net(\n",
      "  (conv1): Conv2d(1, 6, kernel_size=(5, 5), stride=(1, 1))\n",
      "  (conv2): Conv2d(6, 16, kernel_size=(5, 5), stride=(1, 1))\n",
      "  (fc1): Linear(in_features=256, out_features=120, bias=True)\n",
      "  (fc2): Linear(in_features=120, out_features=84, bias=True)\n",
      "  (fc3): Linear(in_features=84, out_features=10, bias=True)\n",
      ")\n"
     ]
    }
   ],
   "source": [
    "class Net(nn.Module):\n",
    "\n",
    "    def __init__(self):\n",
    "        super(Net, self).__init__()\n",
    "        # 1 input image channel, 6 output channels, 5x5 square convolution\n",
    "        # kernel\n",
    "        self.conv1 = nn.Conv2d(1, 6, 5)\n",
    "        self.conv2 = nn.Conv2d(6, 16, 5)\n",
    "        # an affine operation: y = Wx + b\n",
    "        self.fc1 = nn.Linear(16 * 4 * 4, 120)  # 5*5 from image dimension\n",
    "        self.fc2 = nn.Linear(120, 84)\n",
    "        self.fc3 = nn.Linear(84, 10)\n",
    "\n",
    "    def forward(self, x):\n",
    "        # Max pooling over a (2, 2) window\n",
    "        x = torch.nn.functional.max_pool2d(torch.nn.functional.relu(self.conv1(x)), (2, 2))\n",
    "        # If the size is a square, you can specify with a single number\n",
    "        x = torch.nn.functional.max_pool2d(torch.nn.functional.relu(self.conv2(x)), 2)\n",
    "        x = torch.flatten(x, 1) # flatten all dimensions except the batch dimension\n",
    "        x = torch.nn.functional.relu(self.fc1(x))\n",
    "        x = torch.nn.functional.relu(self.fc2(x))\n",
    "        x = self.fc3(x)\n",
    "        return x\n",
    "\n",
    "model = Net()\n",
    "print(model)\n",
    "\n",
    "# if train_on_gpu:\n",
    "#     model = model.to()"
   ]
  },
  {
   "cell_type": "markdown",
   "metadata": {},
   "source": [
    "# 4. Training and evaluation:\n",
    "To use the model, we pass it the input data. This executes the model’s forward, along with some background operations. Do not call model.forward() directly!\n",
    "\n",
    "Calling the model on the input returns a 2-dimensional tensor with dim=0 corresponding to each output of 10 raw predicted values for each class, and dim=1 corresponding to the individual values of each output. We get the prediction probabilities by passing it through an instance of the nn.Softmax module."
   ]
  },
  {
   "cell_type": "code",
   "execution_count": 21,
   "metadata": {},
   "outputs": [],
   "source": [
    "LEARNING_RATE = 1e-2\n",
    "MOMENTUM = 0.9\n",
    "\n",
    "criterion = nn.CrossEntropyLoss()\n",
    "optim = torch.optim.SGD(model.parameters(), lr=LEARNING_RATE, momentum=MOMENTUM)\n",
    "\n",
    "if torch.cuda.is_available():\n",
    "    model = model.cuda()\n",
    "    criterion = criterion.cuda()"
   ]
  },
  {
   "cell_type": "code",
   "execution_count": 25,
   "metadata": {},
   "outputs": [
    {
     "name": "stdout",
     "output_type": "stream",
     "text": [
      "Epoch: 1/10..  Training Loss: 0.016..  Validation Loss: 0.056..  Training Accuracy: 0.994 Valid Accuracy: 0.986\n",
      "Detected network improvement, saving current model\n",
      "Epoch: 2/10..  Training Loss: 0.012..  Validation Loss: 0.052..  Training Accuracy: 0.997 Valid Accuracy: 0.987\n",
      "Detected network improvement, saving current model\n",
      "Epoch: 3/10..  Training Loss: 0.009..  Validation Loss: 0.060..  Training Accuracy: 0.997 Valid Accuracy: 0.985\n",
      "Epoch: 4/10..  Training Loss: 0.010..  Validation Loss: 0.072..  Training Accuracy: 0.997 Valid Accuracy: 0.986\n",
      "Epoch: 5/10..  Training Loss: 0.008..  Validation Loss: 0.067..  Training Accuracy: 0.997 Valid Accuracy: 0.988\n",
      "Epoch: 6/10..  Training Loss: 0.005..  Validation Loss: 0.060..  Training Accuracy: 0.998 Valid Accuracy: 0.985\n",
      "Epoch: 7/10..  Training Loss: 0.008..  Validation Loss: 0.068..  Training Accuracy: 0.997 Valid Accuracy: 0.987\n",
      "Epoch: 8/10..  Training Loss: 0.007..  Validation Loss: 0.069..  Training Accuracy: 0.997 Valid Accuracy: 0.990\n",
      "Epoch: 9/10..  Training Loss: 0.003..  Validation Loss: 0.078..  Training Accuracy: 0.999 Valid Accuracy: 0.986\n",
      "Epoch: 10/10..  Training Loss: 0.003..  Validation Loss: 0.074..  Training Accuracy: 0.999 Valid Accuracy: 0.989\n"
     ]
    }
   ],
   "source": [
    "epochs = 10\n",
    "valid_loss_min = np.Inf\n",
    "train_losses, valid_losses = [], []\n",
    "train_accuracies, valid_accuracies = [], []\n",
    "\n",
    "for epoch in range(1, epochs+1):\n",
    "\n",
    "    # TRAINING!!\n",
    "    training_loss = 0.0\n",
    "    training_accuracy = 0\n",
    "    total = 0\n",
    "    correct = 0\n",
    "\n",
    "    for i, data in enumerate(train_loader, 0):\n",
    "        # get the inputs; data is a list of [inputs, labels]\n",
    "        inputs, labels = data\n",
    "        \n",
    "        # Clear the gradients, do this because gradients are accumulated.\n",
    "        optim.zero_grad()\n",
    "        # Forward pass, get our log-probabilities.\n",
    "        ps = model(inputs)\n",
    "\n",
    "        # the class with the highest energy is what we choose as prediction\n",
    "        _, predicted = torch.max(ps.data, 1)\n",
    "        total += labels.size(0)\n",
    "        correct += (predicted == labels).sum().item()\n",
    "        training_accuracy+= correct / total\n",
    "        \n",
    "        # Compute the loss (how far is the output from being correct).\n",
    "        loss = criterion(ps, labels)\n",
    "        # Backpropagate this error through the network. \n",
    "        # Autograd calculates and stores the gradients for each model parameter in the parameter’s .grad attribute.\n",
    "        loss.backward()    \n",
    "        # initiate gradient descent. The optimizer adjusts each parameter by its gradient stored in .grad.\n",
    "        optim.step()\n",
    "\n",
    "        training_loss += loss.item()\n",
    "\n",
    "\n",
    "    # VALIDATION!!\n",
    "    else:\n",
    "        valid_loss = 0\n",
    "        valid_accuracy = 0\n",
    "        correct = 0\n",
    "        total = 0\n",
    "\n",
    "        # since we're not training, we don't need to calculate the gradients for our outputs\n",
    "        with torch.no_grad():\n",
    "            for data in valid_loader:\n",
    "                images, labels = data\n",
    "                # calculate outputs by running images through the network\n",
    "                outputs = model(images)\n",
    "                # the class with the highest energy is what we choose as prediction\n",
    "                _, predicted = torch.max(outputs.data, 1)\n",
    "                total += labels.size(0)\n",
    "                correct += (predicted == labels).sum().item()\n",
    "                valid_accuracy+= correct / total\n",
    "\n",
    "                valid_loss += criterion(outputs, labels)\n",
    "\n",
    "        model.train() # change the network to training mode\n",
    "        \n",
    "        train_losses.append(training_loss/len(train_loader))\n",
    "        valid_losses.append(valid_loss/len(valid_loader))\n",
    "        valid_accuracies.append(valid_accuracy/len(valid_loader))\n",
    "        train_accuracies.append(training_accuracy/len(train_loader))\n",
    "\n",
    "        network_learned = valid_loss < valid_loss_min\n",
    "\n",
    "        print(f\"Epoch: {epoch}/{epochs}.. \",\n",
    "                f\"Training Loss: {training_loss/len(train_loader):.3f}.. \",\n",
    "                f\"Validation Loss: {valid_loss/len(valid_loader):.3f}.. \",\n",
    "                f\"Training Accuracy: {training_accuracy/len(train_loader):.3f}\",\n",
    "                f\"Valid Accuracy: {valid_accuracy/len(valid_loader):.3f}\")\n",
    "        if network_learned:\n",
    "            valid_loss_min = valid_loss\n",
    "            torch.save(model.state_dict(), 'CNN_model.pt')\n",
    "            print('Detected network improvement, saving current model')\n"
   ]
  },
  {
   "cell_type": "code",
   "execution_count": 30,
   "metadata": {},
   "outputs": [
    {
     "data": {
      "image/png": "[encoded data removed]",
      "text/plain": [
       "<Figure size 1000x500 with 2 Axes>"
      ]
     },
     "metadata": {},
     "output_type": "display_data"
    }
   ],
   "source": [
    "plt.subplot(2, 1, 1)\n",
    "line1 = plt.plot(train_losses, c='red')\n",
    "line2 = plt.plot(valid_losses, c='green')\n",
    "plt.legend(['training_loss', 'validation_loss'])\n",
    "\n",
    "plt.subplot(2, 1, 2)\n",
    "line3 = plt.plot(train_accuracies, c='blue')\n",
    "line4 = plt.plot(valid_accuracies, c='black')\n",
    "\n",
    "plt.legend(['training_accuracy', 'validation_accuracy'])\n",
    "plt.show()\n",
    "\n"
   ]
  },
  {
   "cell_type": "code",
   "execution_count": 34,
   "metadata": {},
   "outputs": [],
   "source": [
    "classes = {0,1,2,3,4,5,6,7,8,9}\n",
    "\n",
    "# prepare to count predictions for each class\n",
    "correct_pred = {classname: 0 for classname in classes}\n",
    "total_pred = {classname: 0 for classname in classes}"
   ]
  },
  {
   "cell_type": "code",
   "execution_count": 36,
   "metadata": {},
   "outputs": [
    {
     "ename": "RuntimeError",
     "evalue": "The size of tensor a (39) must match the size of tensor b (64) at non-singleton dimension 0",
     "output_type": "error",
     "traceback": [
      "\u001b[1;31m---------------------------------------------------------------------------\u001b[0m",
      "\u001b[1;31mRuntimeError\u001b[0m                              Traceback (most recent call last)",
      "Cell \u001b[1;32mIn[36], line 8\u001b[0m\n\u001b[0;32m      5\u001b[0m outputs \u001b[38;5;241m=\u001b[39m model(images)\n\u001b[0;32m      6\u001b[0m _, predictions \u001b[38;5;241m=\u001b[39m torch\u001b[38;5;241m.\u001b[39mmax(outputs, \u001b[38;5;241m1\u001b[39m)\n\u001b[1;32m----> 8\u001b[0m \u001b[38;5;28;01mif\u001b[39;00m \u001b[43mpredicted\u001b[49m\u001b[43m \u001b[49m\u001b[38;5;241;43m==\u001b[39;49m\u001b[43m \u001b[49m\u001b[43mlabels\u001b[49m:\n\u001b[0;32m      9\u001b[0m     correct_pred[classes[label]] \u001b[38;5;241m+\u001b[39m\u001b[38;5;241m=\u001b[39m \u001b[38;5;241m1\u001b[39m\n\u001b[0;32m     10\u001b[0m total_pred[classes[label]] \u001b[38;5;241m+\u001b[39m\u001b[38;5;241m=\u001b[39m \u001b[38;5;241m1\u001b[39m\n",
      "\u001b[1;31mRuntimeError\u001b[0m: The size of tensor a (39) must match the size of tensor b (64) at non-singleton dimension 0"
     ]
    }
   ],
   "source": [
    "\n",
    "# again no gradients needed\n",
    "with torch.no_grad():\n",
    "    for data in valid_loader:\n",
    "        images, labels = data\n",
    "        outputs = model(images)\n",
    "        _, predictions = torch.max(outputs, 1)\n",
    "        \n",
    "        # collect the correct predictions for each class\n",
    "        for label, prediction in zip(labels, predictions):\n",
    "            if label == prediction:\n",
    "                correct_pred[classes[label]] += 1\n",
    "            total_pred[classes[label]] += 1\n",
    "\n",
    "\n",
    "# print accuracy for each class\n",
    "for classname, correct_count in correct_pred.items():\n",
    "    accuracy = 100 * float(correct_count) / total_pred[classname]\n",
    "    print(f'Accuracy for class: {classname:5s} is {accuracy:.1f} %')"
   ]
  }
 ],
 "metadata": {
  "kernelspec": {
   "display_name": "SIP2entorno-KrB8jpVt",
   "language": "python",
   "name": "python3"
  },
  "language_info": {
   "codemirror_mode": {
    "name": "ipython",
    "version": 3
   },
   "file_extension": ".py",
   "mimetype": "text/x-python",
   "name": "python",
   "nbconvert_exporter": "python",
   "pygments_lexer": "ipython3",
   "version": "3.10.11"
  }
 },
 "nbformat": 4,
 "nbformat_minor": 2
}
